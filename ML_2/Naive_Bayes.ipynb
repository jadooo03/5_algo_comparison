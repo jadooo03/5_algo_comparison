{
 "cells": [
  {
   "cell_type": "code",
   "execution_count": 532,
   "metadata": {},
   "outputs": [],
   "source": [
    "import numpy as np\n",
    "import pandas as pd\n",
    "import random\n",
    "from sklearn.naive_bayes import GaussianNB\n",
    "from sklearn.metrics import accuracy_score\n",
    "# from sklearn.model_selection import train_test_split\n",
    "from sklearn.metrics import confusion_matrix\n",
    "import seaborn as sns\n",
    "import matplotlib.pyplot as plt\n",
    "from sklearn.metrics import roc_curve, auc\n",
    "from sklearn.metrics import precision_recall_curve"
   ]
  },
  {
   "cell_type": "code",
   "execution_count": 533,
   "metadata": {},
   "outputs": [],
   "source": [
    "df1 = pd.read_csv('census-income.data.csv')\n",
    "df2 = pd.read_csv('census-income.test.csv')"
   ]
  },
  {
   "cell_type": "code",
   "execution_count": 534,
   "metadata": {},
   "outputs": [
    {
     "name": "stdout",
     "output_type": "stream",
     "text": [
      "<class 'pandas.core.frame.DataFrame'>\n",
      "RangeIndex: 32561 entries, 0 to 32560\n",
      "Data columns (total 15 columns):\n",
      " #   Column          Non-Null Count  Dtype \n",
      "---  ------          --------------  ----- \n",
      " 0   age             32561 non-null  int64 \n",
      " 1   workclass       32561 non-null  object\n",
      " 2   fnlwgt          32561 non-null  int64 \n",
      " 3   education       32561 non-null  object\n",
      " 4   education_num   32561 non-null  int64 \n",
      " 5   marital_status  32561 non-null  object\n",
      " 6   occupation      32561 non-null  object\n",
      " 7   relationship    32561 non-null  object\n",
      " 8   race            32561 non-null  object\n",
      " 9   sex             32561 non-null  object\n",
      " 10  capital_gain    32561 non-null  int64 \n",
      " 11  capital_loss    32561 non-null  int64 \n",
      " 12  hours_per_week  32561 non-null  int64 \n",
      " 13  native_countr   32561 non-null  object\n",
      " 14  label           32561 non-null  object\n",
      "dtypes: int64(6), object(9)\n",
      "memory usage: 3.7+ MB\n"
     ]
    }
   ],
   "source": [
    "df1.info()"
   ]
  },
  {
   "cell_type": "code",
   "execution_count": 535,
   "metadata": {},
   "outputs": [],
   "source": [
    "def determine_type_of_feature(df):\n",
    "    feature_types = []\n",
    "    n_unique_values_threshold = 15\n",
    "\n",
    "    for column in df.columns:\n",
    "        unique_values = df[column].unique()\n",
    "        example_value = unique_values[0]\n",
    "\n",
    "        if (isinstance(example_value, str)) or (len(unique_values) <= n_unique_values_threshold):\n",
    "            feature_types.append(\"Discrete\")\n",
    "        else:\n",
    "            feature_types.append(\"Continuous\")\n",
    "    \n",
    "    return feature_types"
   ]
  },
  {
   "cell_type": "code",
   "execution_count": 536,
   "metadata": {},
   "outputs": [],
   "source": [
    "global FEATURE_TYPES\n",
    "FEATURE_TYPES = determine_type_of_feature(df1)"
   ]
  },
  {
   "cell_type": "code",
   "execution_count": 537,
   "metadata": {},
   "outputs": [],
   "source": [
    "def missing_values(df):\n",
    "    c=0\n",
    "    for i in df.columns:\n",
    "        x,count_missing = np.unique(df[i].eq('?'),return_counts=True)\n",
    "        if len(x)==2:\n",
    "            print(i,\"-\",FEATURE_TYPES[c],\"-\",count_missing[1])\n",
    "        # elif len(x)==1 and x[0] == False:\n",
    "        #     print(i,\"-\",FEATURE_TYPES[c],\"- 0\",)\n",
    "        c+=1"
   ]
  },
  {
   "cell_type": "code",
   "execution_count": 538,
   "metadata": {},
   "outputs": [],
   "source": [
    "def fill_values(df):\n",
    "    #Since all columns are having the discrete value. We replace it with the missing values with the modes, i.e. the highest appearing value\n",
    "    mode_workclass = df.workclass.mode()[0]\n",
    "    mode_occupation = df.occupation.mode()[0]\n",
    "    mode_native_countr = df.native_countr.mode()[0]\n",
    "\n",
    "    #Filling the train and test data with the modes of missing values as they are discrete\n",
    "    df.workclass = df.workclass.replace('?', mode_workclass)\n",
    "    df.occupation = df.occupation.replace('?', mode_occupation)\n",
    "    df.native_countr = df.native_countr.replace('?', mode_native_countr)\n",
    "    missing_values(df)#No missing values\n",
    "    return df"
   ]
  },
  {
   "cell_type": "code",
   "execution_count": 539,
   "metadata": {},
   "outputs": [
    {
     "name": "stdout",
     "output_type": "stream",
     "text": [
      "workclass - Discrete - 1836\n",
      "occupation - Discrete - 1843\n",
      "native_countr - Discrete - 583\n",
      "workclass - Discrete - 963\n",
      "occupation - Discrete - 966\n",
      "native_countr - Discrete - 274\n"
     ]
    },
    {
     "data": {
      "text/html": [
       "<div>\n",
       "<style scoped>\n",
       "    .dataframe tbody tr th:only-of-type {\n",
       "        vertical-align: middle;\n",
       "    }\n",
       "\n",
       "    .dataframe tbody tr th {\n",
       "        vertical-align: top;\n",
       "    }\n",
       "\n",
       "    .dataframe thead th {\n",
       "        text-align: right;\n",
       "    }\n",
       "</style>\n",
       "<table border=\"1\" class=\"dataframe\">\n",
       "  <thead>\n",
       "    <tr style=\"text-align: right;\">\n",
       "      <th></th>\n",
       "      <th>age</th>\n",
       "      <th>workclass</th>\n",
       "      <th>fnlwgt</th>\n",
       "      <th>education</th>\n",
       "      <th>education_num</th>\n",
       "      <th>marital_status</th>\n",
       "      <th>occupation</th>\n",
       "      <th>relationship</th>\n",
       "      <th>race</th>\n",
       "      <th>sex</th>\n",
       "      <th>capital_gain</th>\n",
       "      <th>capital_loss</th>\n",
       "      <th>hours_per_week</th>\n",
       "      <th>native_countr</th>\n",
       "      <th>label</th>\n",
       "    </tr>\n",
       "  </thead>\n",
       "  <tbody>\n",
       "    <tr>\n",
       "      <th>0</th>\n",
       "      <td>25</td>\n",
       "      <td>Private</td>\n",
       "      <td>226802</td>\n",
       "      <td>11th</td>\n",
       "      <td>7</td>\n",
       "      <td>Never-married</td>\n",
       "      <td>Machine-op-inspct</td>\n",
       "      <td>Own-child</td>\n",
       "      <td>Black</td>\n",
       "      <td>Male</td>\n",
       "      <td>0</td>\n",
       "      <td>0</td>\n",
       "      <td>40</td>\n",
       "      <td>United-States</td>\n",
       "      <td>&lt;=50K</td>\n",
       "    </tr>\n",
       "    <tr>\n",
       "      <th>1</th>\n",
       "      <td>38</td>\n",
       "      <td>Private</td>\n",
       "      <td>89814</td>\n",
       "      <td>HS-grad</td>\n",
       "      <td>9</td>\n",
       "      <td>Married-civ-spouse</td>\n",
       "      <td>Farming-fishing</td>\n",
       "      <td>Husband</td>\n",
       "      <td>White</td>\n",
       "      <td>Male</td>\n",
       "      <td>0</td>\n",
       "      <td>0</td>\n",
       "      <td>50</td>\n",
       "      <td>United-States</td>\n",
       "      <td>&lt;=50K</td>\n",
       "    </tr>\n",
       "    <tr>\n",
       "      <th>2</th>\n",
       "      <td>28</td>\n",
       "      <td>Local-gov</td>\n",
       "      <td>336951</td>\n",
       "      <td>Assoc-acdm</td>\n",
       "      <td>12</td>\n",
       "      <td>Married-civ-spouse</td>\n",
       "      <td>Protective-serv</td>\n",
       "      <td>Husband</td>\n",
       "      <td>White</td>\n",
       "      <td>Male</td>\n",
       "      <td>0</td>\n",
       "      <td>0</td>\n",
       "      <td>40</td>\n",
       "      <td>United-States</td>\n",
       "      <td>&gt;50K</td>\n",
       "    </tr>\n",
       "    <tr>\n",
       "      <th>3</th>\n",
       "      <td>44</td>\n",
       "      <td>Private</td>\n",
       "      <td>160323</td>\n",
       "      <td>Some-college</td>\n",
       "      <td>10</td>\n",
       "      <td>Married-civ-spouse</td>\n",
       "      <td>Machine-op-inspct</td>\n",
       "      <td>Husband</td>\n",
       "      <td>Black</td>\n",
       "      <td>Male</td>\n",
       "      <td>7688</td>\n",
       "      <td>0</td>\n",
       "      <td>40</td>\n",
       "      <td>United-States</td>\n",
       "      <td>&gt;50K</td>\n",
       "    </tr>\n",
       "    <tr>\n",
       "      <th>4</th>\n",
       "      <td>18</td>\n",
       "      <td>Private</td>\n",
       "      <td>103497</td>\n",
       "      <td>Some-college</td>\n",
       "      <td>10</td>\n",
       "      <td>Never-married</td>\n",
       "      <td>Prof-specialty</td>\n",
       "      <td>Own-child</td>\n",
       "      <td>White</td>\n",
       "      <td>Female</td>\n",
       "      <td>0</td>\n",
       "      <td>0</td>\n",
       "      <td>30</td>\n",
       "      <td>United-States</td>\n",
       "      <td>&lt;=50K</td>\n",
       "    </tr>\n",
       "    <tr>\n",
       "      <th>...</th>\n",
       "      <td>...</td>\n",
       "      <td>...</td>\n",
       "      <td>...</td>\n",
       "      <td>...</td>\n",
       "      <td>...</td>\n",
       "      <td>...</td>\n",
       "      <td>...</td>\n",
       "      <td>...</td>\n",
       "      <td>...</td>\n",
       "      <td>...</td>\n",
       "      <td>...</td>\n",
       "      <td>...</td>\n",
       "      <td>...</td>\n",
       "      <td>...</td>\n",
       "      <td>...</td>\n",
       "    </tr>\n",
       "    <tr>\n",
       "      <th>16276</th>\n",
       "      <td>39</td>\n",
       "      <td>Private</td>\n",
       "      <td>215419</td>\n",
       "      <td>Bachelors</td>\n",
       "      <td>13</td>\n",
       "      <td>Divorced</td>\n",
       "      <td>Prof-specialty</td>\n",
       "      <td>Not-in-family</td>\n",
       "      <td>White</td>\n",
       "      <td>Female</td>\n",
       "      <td>0</td>\n",
       "      <td>0</td>\n",
       "      <td>36</td>\n",
       "      <td>United-States</td>\n",
       "      <td>&lt;=50K</td>\n",
       "    </tr>\n",
       "    <tr>\n",
       "      <th>16277</th>\n",
       "      <td>64</td>\n",
       "      <td>Private</td>\n",
       "      <td>321403</td>\n",
       "      <td>HS-grad</td>\n",
       "      <td>9</td>\n",
       "      <td>Widowed</td>\n",
       "      <td>Prof-specialty</td>\n",
       "      <td>Other-relative</td>\n",
       "      <td>Black</td>\n",
       "      <td>Male</td>\n",
       "      <td>0</td>\n",
       "      <td>0</td>\n",
       "      <td>40</td>\n",
       "      <td>United-States</td>\n",
       "      <td>&lt;=50K</td>\n",
       "    </tr>\n",
       "    <tr>\n",
       "      <th>16278</th>\n",
       "      <td>38</td>\n",
       "      <td>Private</td>\n",
       "      <td>374983</td>\n",
       "      <td>Bachelors</td>\n",
       "      <td>13</td>\n",
       "      <td>Married-civ-spouse</td>\n",
       "      <td>Prof-specialty</td>\n",
       "      <td>Husband</td>\n",
       "      <td>White</td>\n",
       "      <td>Male</td>\n",
       "      <td>0</td>\n",
       "      <td>0</td>\n",
       "      <td>50</td>\n",
       "      <td>United-States</td>\n",
       "      <td>&lt;=50K</td>\n",
       "    </tr>\n",
       "    <tr>\n",
       "      <th>16279</th>\n",
       "      <td>44</td>\n",
       "      <td>Private</td>\n",
       "      <td>83891</td>\n",
       "      <td>Bachelors</td>\n",
       "      <td>13</td>\n",
       "      <td>Divorced</td>\n",
       "      <td>Adm-clerical</td>\n",
       "      <td>Own-child</td>\n",
       "      <td>Asian-Pac-Islander</td>\n",
       "      <td>Male</td>\n",
       "      <td>5455</td>\n",
       "      <td>0</td>\n",
       "      <td>40</td>\n",
       "      <td>United-States</td>\n",
       "      <td>&lt;=50K</td>\n",
       "    </tr>\n",
       "    <tr>\n",
       "      <th>16280</th>\n",
       "      <td>35</td>\n",
       "      <td>Self-emp-inc</td>\n",
       "      <td>182148</td>\n",
       "      <td>Bachelors</td>\n",
       "      <td>13</td>\n",
       "      <td>Married-civ-spouse</td>\n",
       "      <td>Exec-managerial</td>\n",
       "      <td>Husband</td>\n",
       "      <td>White</td>\n",
       "      <td>Male</td>\n",
       "      <td>0</td>\n",
       "      <td>0</td>\n",
       "      <td>60</td>\n",
       "      <td>United-States</td>\n",
       "      <td>&gt;50K</td>\n",
       "    </tr>\n",
       "  </tbody>\n",
       "</table>\n",
       "<p>16281 rows × 15 columns</p>\n",
       "</div>"
      ],
      "text/plain": [
       "       age     workclass  fnlwgt     education  education_num  \\\n",
       "0       25       Private  226802          11th              7   \n",
       "1       38       Private   89814       HS-grad              9   \n",
       "2       28     Local-gov  336951    Assoc-acdm             12   \n",
       "3       44       Private  160323  Some-college             10   \n",
       "4       18       Private  103497  Some-college             10   \n",
       "...    ...           ...     ...           ...            ...   \n",
       "16276   39       Private  215419     Bachelors             13   \n",
       "16277   64       Private  321403       HS-grad              9   \n",
       "16278   38       Private  374983     Bachelors             13   \n",
       "16279   44       Private   83891     Bachelors             13   \n",
       "16280   35  Self-emp-inc  182148     Bachelors             13   \n",
       "\n",
       "           marital_status         occupation    relationship  \\\n",
       "0           Never-married  Machine-op-inspct       Own-child   \n",
       "1      Married-civ-spouse    Farming-fishing         Husband   \n",
       "2      Married-civ-spouse    Protective-serv         Husband   \n",
       "3      Married-civ-spouse  Machine-op-inspct         Husband   \n",
       "4           Never-married     Prof-specialty       Own-child   \n",
       "...                   ...                ...             ...   \n",
       "16276            Divorced     Prof-specialty   Not-in-family   \n",
       "16277             Widowed     Prof-specialty  Other-relative   \n",
       "16278  Married-civ-spouse     Prof-specialty         Husband   \n",
       "16279            Divorced       Adm-clerical       Own-child   \n",
       "16280  Married-civ-spouse    Exec-managerial         Husband   \n",
       "\n",
       "                     race     sex  capital_gain  capital_loss  hours_per_week  \\\n",
       "0                   Black    Male             0             0              40   \n",
       "1                   White    Male             0             0              50   \n",
       "2                   White    Male             0             0              40   \n",
       "3                   Black    Male          7688             0              40   \n",
       "4                   White  Female             0             0              30   \n",
       "...                   ...     ...           ...           ...             ...   \n",
       "16276               White  Female             0             0              36   \n",
       "16277               Black    Male             0             0              40   \n",
       "16278               White    Male             0             0              50   \n",
       "16279  Asian-Pac-Islander    Male          5455             0              40   \n",
       "16280               White    Male             0             0              60   \n",
       "\n",
       "       native_countr  label  \n",
       "0      United-States  <=50K  \n",
       "1      United-States  <=50K  \n",
       "2      United-States   >50K  \n",
       "3      United-States   >50K  \n",
       "4      United-States  <=50K  \n",
       "...              ...    ...  \n",
       "16276  United-States  <=50K  \n",
       "16277  United-States  <=50K  \n",
       "16278  United-States  <=50K  \n",
       "16279  United-States  <=50K  \n",
       "16280  United-States   >50K  \n",
       "\n",
       "[16281 rows x 15 columns]"
      ]
     },
     "execution_count": 539,
     "metadata": {},
     "output_type": "execute_result"
    }
   ],
   "source": [
    "df2['label'] = df2['label'].str.replace('.', '')\n",
    "missing_values(df1)\n",
    "missing_values(df2)\n",
    "fill_values(df1)\n",
    "fill_values(df2)"
   ]
  },
  {
   "cell_type": "code",
   "execution_count": 540,
   "metadata": {},
   "outputs": [],
   "source": [
    "def train_test_split(df,test_size):\n",
    "    #checks whether the test_size is a proportion of the total number of samples\n",
    "    if isinstance(test_size,float): \n",
    "        test_size = round(test_size*len(df))\n",
    "\n",
    "    #store random samples in the test and training data\n",
    "    indices = df.index.tolist()\n",
    "    test_indices = random.sample(population=indices, k = test_size)\n",
    "\n",
    "    #random data points from sample sent to test and training data\n",
    "    test_df = df.loc[test_indices]\n",
    "    train_df = df.drop(test_indices)\n",
    "\n",
    "    return train_df , test_df"
   ]
  },
  {
   "cell_type": "code",
   "execution_count": 541,
   "metadata": {},
   "outputs": [],
   "source": [
    "df_combined = pd.concat([df1,df2],ignore_index=True)"
   ]
  },
  {
   "cell_type": "code",
   "execution_count": 542,
   "metadata": {},
   "outputs": [],
   "source": [
    "workclass_dict = {\n",
    "    'Federal-gov': 1,\n",
    "    'Local-gov': 2,\n",
    "    'Never-worked': 3,\n",
    "    'Private': 4,\n",
    "    'Self-emp-inc': 5,\n",
    "    'Self-emp-not-inc': 6,\n",
    "    'State-gov': 7,\n",
    "    'Without-pay': 8\n",
    "}\n",
    "\n",
    "education_dict = {\n",
    "    '10th': 1,\n",
    "    '11th': 2,\n",
    "    '12th': 3,\n",
    "    '1st-4th': 4,\n",
    "    '5th-6th': 5,\n",
    "    '7th-8th': 6,\n",
    "    '9th': 7,\n",
    "    'Assoc-acdm': 8,\n",
    "    'Assoc-voc': 9,\n",
    "    'Bachelors': 10,\n",
    "    'Doctorate': 11,\n",
    "    'HS-grad': 12,\n",
    "    'Masters': 13,\n",
    "    'Preschool': 14,\n",
    "    'Prof-school': 15,\n",
    "    'Some-college': 16\n",
    "}\n",
    "\n",
    "marital_status_dict = {\n",
    "    'Divorced': 1,\n",
    "    'Married-AF-spouse': 2,\n",
    "    'Married-civ-spouse': 3,\n",
    "    'Married-spouse-absent': 4,\n",
    "    'Never-married': 5,\n",
    "    'Separated': 6,\n",
    "    'Widowed': 7\n",
    "}\n",
    "\n",
    "occupation_dict = {\n",
    "    'Adm-clerical': 1,\n",
    "    'Armed-Forces': 2,\n",
    "    'Craft-repair': 3,\n",
    "    'Exec-managerial': 4,\n",
    "    'Farming-fishing': 5,\n",
    "    'Handlers-cleaners': 6,\n",
    "    'Machine-op-inspct': 7,\n",
    "    'Other-service': 8,\n",
    "    'Priv-house-serv': 9,\n",
    "    'Prof-specialty': 10,\n",
    "    'Protective-serv': 11,\n",
    "    'Sales': 12,\n",
    "    'Tech-support': 13,\n",
    "    'Transport-moving': 14\n",
    "}\n",
    "\n",
    "relationship_dict = {\n",
    "    'Husband': 1,\n",
    "    'Not-in-family': 2,\n",
    "    'Other-relative': 3,\n",
    "    'Own-child': 4,\n",
    "    'Unmarried': 5,\n",
    "    'Wife': 6\n",
    "}\n",
    "\n",
    "race_dict = {\n",
    "    'Amer-Indian-Eskimo': 1,\n",
    "    'Asian-Pac-Islander': 2,\n",
    "    'Black': 3,\n",
    "    'Other': 4,\n",
    "    'White': 5\n",
    "}\n",
    "\n",
    "sex_dict = {\n",
    "    'Female': 1,\n",
    "    'Male': 2\n",
    "}\n",
    "\n",
    "native_countr_dict = {\n",
    "    'Cambodia': 1,\n",
    "    'Canada': 2,\n",
    "    'China': 3,\n",
    "    'Columbia': 4,\n",
    "    'Cuba': 5,\n",
    "    'Dominican-Republic': 6,\n",
    "    'Ecuador': 7,\n",
    "    'El-Salvador': 8,\n",
    "    'England': 9,\n",
    "    'France': 10,\n",
    "    'Germany': 11,\n",
    "    'Greece': 12,\n",
    "    'Guatemala': 13,\n",
    "    'Haiti': 14,\n",
    "    'Holand-Netherlands': 15,\n",
    "    'Honduras': 16,\n",
    "    'Hong': 17,\n",
    "    'Hungary': 18,\n",
    "    'India': 19,\n",
    "    'Iran': 20,\n",
    "    'Ireland': 21,\n",
    "    'Italy': 22,\n",
    "    'Jamaica': 23,\n",
    "    'Japan': 24,\n",
    "    'Laos': 25,\n",
    "    'Mexico': 26,\n",
    "    'Nicaragua': 27,\n",
    "    'Outlying-US(Guam-USVI-etc)': 28,\n",
    "    'Peru': 29,\n",
    "    'Philippines': 30,\n",
    "    'Poland': 31,\n",
    "    'Portugal': 32,\n",
    "    'Puerto-Rico': 33,\n",
    "    'Scotland': 34,\n",
    "    'South': 35,\n",
    "    'Taiwan': 36,\n",
    "    'Thailand': 37,\n",
    "    'Trinadad&Tobago': 38,\n",
    "    'United-States': 39,\n",
    "    'Vietnam': 40,\n",
    "    'Yugoslavia': 41\n",
    "}\n",
    "\n",
    "label_dict = {\n",
    "    '<=50K': 0,\n",
    "    '>50K': 1\n",
    "}"
   ]
  },
  {
   "cell_type": "code",
   "execution_count": 543,
   "metadata": {},
   "outputs": [],
   "source": [
    "df_combined.workclass = df_combined.workclass.map(workclass_dict)\n",
    "\n",
    "df_combined.education = df_combined.education.map(education_dict)\n",
    "\n",
    "df_combined.marital_status = df_combined.marital_status.map(marital_status_dict)\n",
    "\n",
    "df_combined.occupation = df_combined.occupation.map(occupation_dict)\n",
    "\n",
    "df_combined.relationship = df_combined.relationship.map(relationship_dict)\n",
    "\n",
    "df_combined.race = df_combined.race.map(race_dict)\n",
    "\n",
    "df_combined.sex = df_combined.sex.map(sex_dict)\n",
    "\n",
    "df_combined.native_countr = df_combined.native_countr.map(native_countr_dict)\n",
    "\n",
    "df_combined.label = df_combined.label.map(label_dict)"
   ]
  },
  {
   "cell_type": "code",
   "execution_count": 544,
   "metadata": {},
   "outputs": [
    {
     "data": {
      "text/html": [
       "<div>\n",
       "<style scoped>\n",
       "    .dataframe tbody tr th:only-of-type {\n",
       "        vertical-align: middle;\n",
       "    }\n",
       "\n",
       "    .dataframe tbody tr th {\n",
       "        vertical-align: top;\n",
       "    }\n",
       "\n",
       "    .dataframe thead th {\n",
       "        text-align: right;\n",
       "    }\n",
       "</style>\n",
       "<table border=\"1\" class=\"dataframe\">\n",
       "  <thead>\n",
       "    <tr style=\"text-align: right;\">\n",
       "      <th></th>\n",
       "      <th>age</th>\n",
       "      <th>workclass</th>\n",
       "      <th>fnlwgt</th>\n",
       "      <th>education</th>\n",
       "      <th>education_num</th>\n",
       "      <th>marital_status</th>\n",
       "      <th>occupation</th>\n",
       "      <th>relationship</th>\n",
       "      <th>race</th>\n",
       "      <th>sex</th>\n",
       "      <th>capital_gain</th>\n",
       "      <th>capital_loss</th>\n",
       "      <th>hours_per_week</th>\n",
       "      <th>native_countr</th>\n",
       "      <th>label</th>\n",
       "    </tr>\n",
       "  </thead>\n",
       "  <tbody>\n",
       "    <tr>\n",
       "      <th>0</th>\n",
       "      <td>39</td>\n",
       "      <td>7</td>\n",
       "      <td>77516</td>\n",
       "      <td>10</td>\n",
       "      <td>13</td>\n",
       "      <td>5</td>\n",
       "      <td>1</td>\n",
       "      <td>2</td>\n",
       "      <td>5</td>\n",
       "      <td>2</td>\n",
       "      <td>2174</td>\n",
       "      <td>0</td>\n",
       "      <td>40</td>\n",
       "      <td>39</td>\n",
       "      <td>0</td>\n",
       "    </tr>\n",
       "    <tr>\n",
       "      <th>1</th>\n",
       "      <td>50</td>\n",
       "      <td>6</td>\n",
       "      <td>83311</td>\n",
       "      <td>10</td>\n",
       "      <td>13</td>\n",
       "      <td>3</td>\n",
       "      <td>4</td>\n",
       "      <td>1</td>\n",
       "      <td>5</td>\n",
       "      <td>2</td>\n",
       "      <td>0</td>\n",
       "      <td>0</td>\n",
       "      <td>13</td>\n",
       "      <td>39</td>\n",
       "      <td>0</td>\n",
       "    </tr>\n",
       "    <tr>\n",
       "      <th>2</th>\n",
       "      <td>38</td>\n",
       "      <td>4</td>\n",
       "      <td>215646</td>\n",
       "      <td>12</td>\n",
       "      <td>9</td>\n",
       "      <td>1</td>\n",
       "      <td>6</td>\n",
       "      <td>2</td>\n",
       "      <td>5</td>\n",
       "      <td>2</td>\n",
       "      <td>0</td>\n",
       "      <td>0</td>\n",
       "      <td>40</td>\n",
       "      <td>39</td>\n",
       "      <td>0</td>\n",
       "    </tr>\n",
       "    <tr>\n",
       "      <th>3</th>\n",
       "      <td>53</td>\n",
       "      <td>4</td>\n",
       "      <td>234721</td>\n",
       "      <td>2</td>\n",
       "      <td>7</td>\n",
       "      <td>3</td>\n",
       "      <td>6</td>\n",
       "      <td>1</td>\n",
       "      <td>3</td>\n",
       "      <td>2</td>\n",
       "      <td>0</td>\n",
       "      <td>0</td>\n",
       "      <td>40</td>\n",
       "      <td>39</td>\n",
       "      <td>0</td>\n",
       "    </tr>\n",
       "    <tr>\n",
       "      <th>4</th>\n",
       "      <td>28</td>\n",
       "      <td>4</td>\n",
       "      <td>338409</td>\n",
       "      <td>10</td>\n",
       "      <td>13</td>\n",
       "      <td>3</td>\n",
       "      <td>10</td>\n",
       "      <td>6</td>\n",
       "      <td>3</td>\n",
       "      <td>1</td>\n",
       "      <td>0</td>\n",
       "      <td>0</td>\n",
       "      <td>40</td>\n",
       "      <td>5</td>\n",
       "      <td>0</td>\n",
       "    </tr>\n",
       "  </tbody>\n",
       "</table>\n",
       "</div>"
      ],
      "text/plain": [
       "   age  workclass  fnlwgt  education  education_num  marital_status  \\\n",
       "0   39          7   77516         10             13               5   \n",
       "1   50          6   83311         10             13               3   \n",
       "2   38          4  215646         12              9               1   \n",
       "3   53          4  234721          2              7               3   \n",
       "4   28          4  338409         10             13               3   \n",
       "\n",
       "   occupation  relationship  race  sex  capital_gain  capital_loss  \\\n",
       "0           1             2     5    2          2174             0   \n",
       "1           4             1     5    2             0             0   \n",
       "2           6             2     5    2             0             0   \n",
       "3           6             1     3    2             0             0   \n",
       "4          10             6     3    1             0             0   \n",
       "\n",
       "   hours_per_week  native_countr  label  \n",
       "0              40             39      0  \n",
       "1              13             39      0  \n",
       "2              40             39      0  \n",
       "3              40             39      0  \n",
       "4              40              5      0  "
      ]
     },
     "execution_count": 544,
     "metadata": {},
     "output_type": "execute_result"
    }
   ],
   "source": [
    "df_combined.head()"
   ]
  },
  {
   "cell_type": "code",
   "execution_count": 545,
   "metadata": {},
   "outputs": [],
   "source": [
    "df_train , df_test = train_test_split(df_combined , 0.33)\n",
    "random.seed(0)"
   ]
  },
  {
   "cell_type": "markdown",
   "metadata": {},
   "source": [
    "df_test.head()"
   ]
  },
  {
   "cell_type": "code",
   "execution_count": 546,
   "metadata": {},
   "outputs": [],
   "source": [
    "y_test = df_test.label.values\n",
    "\n",
    "df_test = df_test.drop('label',axis = 1)\n",
    "\n",
    "x_test = df_test.values\n"
   ]
  },
  {
   "cell_type": "code",
   "execution_count": 547,
   "metadata": {},
   "outputs": [],
   "source": [
    "y_train = df_train.label.values\n",
    "\n",
    "df_train = df_train.drop('label',axis =1)\n",
    "\n",
    "x_train = df_train.values\n",
    "\n"
   ]
  },
  {
   "cell_type": "code",
   "execution_count": 548,
   "metadata": {},
   "outputs": [],
   "source": [
    "x_train = x_train.T\n",
    "x_test = x_test.T"
   ]
  },
  {
   "cell_type": "code",
   "execution_count": 549,
   "metadata": {},
   "outputs": [
    {
     "data": {
      "text/plain": [
       "16118"
      ]
     },
     "execution_count": 549,
     "metadata": {},
     "output_type": "execute_result"
    }
   ],
   "source": [
    "y_test.shape[0]"
   ]
  },
  {
   "cell_type": "code",
   "execution_count": 550,
   "metadata": {},
   "outputs": [],
   "source": [
    "def normalize_data(data):\n",
    "    max_row = np.amax(data,axis=1)\n",
    "    min_row = np.amin(data,axis=1)\n",
    "    diff = max_row-min_row\n",
    "    diff = diff.reshape(diff.shape[0],1)\n",
    "    max_row = max_row.reshape(max_row.shape[0],1)\n",
    "    min_row = min_row.reshape(min_row.shape[0],1)\n",
    "    diff = diff.reshape(diff.shape[0],1)\n",
    "    data = np.divide((data-min_row),diff)\n",
    "\n",
    "    return(data)"
   ]
  },
  {
   "cell_type": "code",
   "execution_count": 551,
   "metadata": {},
   "outputs": [],
   "source": [
    "x_test = normalize_data(x_test)\n",
    "x_train = normalize_data(x_train)"
   ]
  },
  {
   "cell_type": "code",
   "execution_count": 552,
   "metadata": {},
   "outputs": [
    {
     "data": {
      "text/plain": [
       "array([[0.08219178, 0.36986301, 0.02739726, ..., 0.32876712, 0.        ,\n",
       "        0.02739726],\n",
       "       [0.42857143, 0.42857143, 0.42857143, ..., 0.42857143, 0.42857143,\n",
       "        0.42857143],\n",
       "       [0.01331003, 0.12494726, 0.06872333, ..., 0.19527763, 0.08049878,\n",
       "        0.16104904],\n",
       "       ...,\n",
       "       [0.        , 0.        , 0.        , ..., 0.        , 0.        ,\n",
       "        0.        ],\n",
       "       [0.29591837, 0.42857143, 0.39795918, ..., 0.39795918, 0.14285714,\n",
       "        0.13265306],\n",
       "       [0.95      , 0.95      , 0.975     , ..., 0.95      , 0.95      ,\n",
       "        0.95      ]])"
      ]
     },
     "execution_count": 552,
     "metadata": {},
     "output_type": "execute_result"
    }
   ],
   "source": [
    "x_test"
   ]
  },
  {
   "cell_type": "code",
   "execution_count": 553,
   "metadata": {},
   "outputs": [
    {
     "data": {
      "text/plain": [
       "array([[0.30136986, 0.28767123, 0.49315068, ..., 0.28767123, 0.36986301,\n",
       "        0.24657534],\n",
       "       [0.85714286, 0.42857143, 0.42857143, ..., 0.42857143, 0.42857143,\n",
       "        0.57142857],\n",
       "       [0.04520043, 0.14091467, 0.15413228, ..., 0.25132384, 0.04961785,\n",
       "        0.11770294],\n",
       "       ...,\n",
       "       [0.        , 0.        , 0.        , ..., 0.        , 0.        ,\n",
       "        0.        ],\n",
       "       [0.39795918, 0.39795918, 0.39795918, ..., 0.5       , 0.39795918,\n",
       "        0.60204082],\n",
       "       [0.95      , 0.95      , 0.95      , ..., 0.95      , 0.95      ,\n",
       "        0.95      ]])"
      ]
     },
     "execution_count": 553,
     "metadata": {},
     "output_type": "execute_result"
    }
   ],
   "source": [
    "x_train"
   ]
  },
  {
   "cell_type": "code",
   "execution_count": 554,
   "metadata": {},
   "outputs": [
    {
     "name": "stdout",
     "output_type": "stream",
     "text": [
      "Number of training examples: m_train = 32724\n",
      "Number of testing examples: m_test = 16118\n",
      "train_set_x shape: (14, 32724)\n",
      "train_set_y shape: (32724,)\n",
      "test_set_x shape: (14, 16118)\n",
      "test_set_y shape: (16118,)\n"
     ]
    }
   ],
   "source": [
    "m_train = x_train.shape[1]\n",
    "m_test = x_test.shape[1]\n",
    "\n",
    "print(\"Number of training examples: m_train =\", m_train)\n",
    "print(\"Number of testing examples: m_test =\", m_test)\n",
    "\n",
    "print(\"train_set_x shape:\", x_train.shape)\n",
    "print(\"train_set_y shape:\", y_train.shape)\n",
    "print(\"test_set_x shape:\", x_test.shape)\n",
    "print(\"test_set_y shape:\", y_test.shape)\n"
   ]
  },
  {
   "cell_type": "code",
   "execution_count": 555,
   "metadata": {},
   "outputs": [],
   "source": [
    "X_train = x_train.T\n",
    "y_train = y_train.reshape(-1, 1)\n",
    "X_test = x_test.T\n",
    "y_test = y_test.reshape(-1, 1)"
   ]
  },
  {
   "cell_type": "code",
   "execution_count": 556,
   "metadata": {},
   "outputs": [],
   "source": [
    "# class NaiveBayes:\n",
    "    \n",
    "#     def fit(self, X, y):\n",
    "#         n_samples, n_features = X.shape\n",
    "#         self._classes = np.unique(y)\n",
    "#         n_classes = len(self._classes)\n",
    "\n",
    "#         # Calculate mean, var, and prior for each hypothesis\n",
    "#         self._mean = np.zeros((n_classes, n_features), dtype=np.float64)\n",
    "#         self._var = np.zeros((n_classes, n_features), dtype=np.float64)\n",
    "#         self._priors = np.zeros(n_classes, dtype=np.float64)\n",
    "\n",
    "#         for idx, c in enumerate(self._classes):\n",
    "#             X_c = X[y==c]\n",
    "#             self._mean[idx, :] = X_c.mean(axis=0)\n",
    "#             self._var[idx, :] = X_c.var(axis=0)\n",
    "#             self._priors[idx] = X_c.shape[0] / float(n_samples)\n",
    "\n",
    "#     def predict(self, X):\n",
    "#         y_pred = [self._predict(x) for x in X]\n",
    "#         return np.array(y_pred)\n",
    "    \n",
    "#     def _predict(self, x):\n",
    "#         posteriors = []\n",
    "\n",
    "#         # Calculate posterior probability for each class\n",
    "#         for idx, c in enumerate(self._classes):\n",
    "#             prior = np.log(self._priors[idx])\n",
    "#             epsilon = 1e-8\n",
    "#             posterior = np.sum(np.log(self._pdf(idx, x)+ epsilon))\n",
    "#             posterior = posterior + prior\n",
    "#             posteriors.append(posterior)\n",
    "\n",
    "#         # Return class with max posterior\n",
    "#         return self._classes[np.argmax(posteriors)]\n",
    "    \n",
    "#     def _pdf(self, class_idx, x):\n",
    "#         mean = self._mean[class_idx]\n",
    "#         var = self._var[class_idx]\n",
    "#         numerator = np.exp(-((x - mean)**2) / (2 * var))\n",
    "#         denominator = np.sqrt(2 * np.pi * var)\n",
    "#         return numerator / denominator"
   ]
  },
  {
   "cell_type": "code",
   "execution_count": 557,
   "metadata": {},
   "outputs": [],
   "source": [
    "nb = GaussianNB()"
   ]
  },
  {
   "cell_type": "code",
   "execution_count": 558,
   "metadata": {},
   "outputs": [
    {
     "data": {
      "text/html": [
       "<style>#sk-container-id-2 {color: black;background-color: white;}#sk-container-id-2 pre{padding: 0;}#sk-container-id-2 div.sk-toggleable {background-color: white;}#sk-container-id-2 label.sk-toggleable__label {cursor: pointer;display: block;width: 100%;margin-bottom: 0;padding: 0.3em;box-sizing: border-box;text-align: center;}#sk-container-id-2 label.sk-toggleable__label-arrow:before {content: \"▸\";float: left;margin-right: 0.25em;color: #696969;}#sk-container-id-2 label.sk-toggleable__label-arrow:hover:before {color: black;}#sk-container-id-2 div.sk-estimator:hover label.sk-toggleable__label-arrow:before {color: black;}#sk-container-id-2 div.sk-toggleable__content {max-height: 0;max-width: 0;overflow: hidden;text-align: left;background-color: #f0f8ff;}#sk-container-id-2 div.sk-toggleable__content pre {margin: 0.2em;color: black;border-radius: 0.25em;background-color: #f0f8ff;}#sk-container-id-2 input.sk-toggleable__control:checked~div.sk-toggleable__content {max-height: 200px;max-width: 100%;overflow: auto;}#sk-container-id-2 input.sk-toggleable__control:checked~label.sk-toggleable__label-arrow:before {content: \"▾\";}#sk-container-id-2 div.sk-estimator input.sk-toggleable__control:checked~label.sk-toggleable__label {background-color: #d4ebff;}#sk-container-id-2 div.sk-label input.sk-toggleable__control:checked~label.sk-toggleable__label {background-color: #d4ebff;}#sk-container-id-2 input.sk-hidden--visually {border: 0;clip: rect(1px 1px 1px 1px);clip: rect(1px, 1px, 1px, 1px);height: 1px;margin: -1px;overflow: hidden;padding: 0;position: absolute;width: 1px;}#sk-container-id-2 div.sk-estimator {font-family: monospace;background-color: #f0f8ff;border: 1px dotted black;border-radius: 0.25em;box-sizing: border-box;margin-bottom: 0.5em;}#sk-container-id-2 div.sk-estimator:hover {background-color: #d4ebff;}#sk-container-id-2 div.sk-parallel-item::after {content: \"\";width: 100%;border-bottom: 1px solid gray;flex-grow: 1;}#sk-container-id-2 div.sk-label:hover label.sk-toggleable__label {background-color: #d4ebff;}#sk-container-id-2 div.sk-serial::before {content: \"\";position: absolute;border-left: 1px solid gray;box-sizing: border-box;top: 0;bottom: 0;left: 50%;z-index: 0;}#sk-container-id-2 div.sk-serial {display: flex;flex-direction: column;align-items: center;background-color: white;padding-right: 0.2em;padding-left: 0.2em;position: relative;}#sk-container-id-2 div.sk-item {position: relative;z-index: 1;}#sk-container-id-2 div.sk-parallel {display: flex;align-items: stretch;justify-content: center;background-color: white;position: relative;}#sk-container-id-2 div.sk-item::before, #sk-container-id-2 div.sk-parallel-item::before {content: \"\";position: absolute;border-left: 1px solid gray;box-sizing: border-box;top: 0;bottom: 0;left: 50%;z-index: -1;}#sk-container-id-2 div.sk-parallel-item {display: flex;flex-direction: column;z-index: 1;position: relative;background-color: white;}#sk-container-id-2 div.sk-parallel-item:first-child::after {align-self: flex-end;width: 50%;}#sk-container-id-2 div.sk-parallel-item:last-child::after {align-self: flex-start;width: 50%;}#sk-container-id-2 div.sk-parallel-item:only-child::after {width: 0;}#sk-container-id-2 div.sk-dashed-wrapped {border: 1px dashed gray;margin: 0 0.4em 0.5em 0.4em;box-sizing: border-box;padding-bottom: 0.4em;background-color: white;}#sk-container-id-2 div.sk-label label {font-family: monospace;font-weight: bold;display: inline-block;line-height: 1.2em;}#sk-container-id-2 div.sk-label-container {text-align: center;}#sk-container-id-2 div.sk-container {/* jupyter's `normalize.less` sets `[hidden] { display: none; }` but bootstrap.min.css set `[hidden] { display: none !important; }` so we also need the `!important` here to be able to override the default hidden behavior on the sphinx rendered scikit-learn.org. See: https://github.com/scikit-learn/scikit-learn/issues/21755 */display: inline-block !important;position: relative;}#sk-container-id-2 div.sk-text-repr-fallback {display: none;}</style><div id=\"sk-container-id-2\" class=\"sk-top-container\"><div class=\"sk-text-repr-fallback\"><pre>GaussianNB()</pre><b>In a Jupyter environment, please rerun this cell to show the HTML representation or trust the notebook. <br />On GitHub, the HTML representation is unable to render, please try loading this page with nbviewer.org.</b></div><div class=\"sk-container\" hidden><div class=\"sk-item\"><div class=\"sk-estimator sk-toggleable\"><input class=\"sk-toggleable__control sk-hidden--visually\" id=\"sk-estimator-id-2\" type=\"checkbox\" checked><label for=\"sk-estimator-id-2\" class=\"sk-toggleable__label sk-toggleable__label-arrow\">GaussianNB</label><div class=\"sk-toggleable__content\"><pre>GaussianNB()</pre></div></div></div></div></div>"
      ],
      "text/plain": [
       "GaussianNB()"
      ]
     },
     "execution_count": 558,
     "metadata": {},
     "output_type": "execute_result"
    }
   ],
   "source": [
    "nb.fit(X_train, y_train.ravel())"
   ]
  },
  {
   "cell_type": "code",
   "execution_count": 559,
   "metadata": {},
   "outputs": [],
   "source": [
    "y_pred = nb.predict(X_test)"
   ]
  },
  {
   "cell_type": "code",
   "execution_count": 560,
   "metadata": {},
   "outputs": [
    {
     "name": "stdout",
     "output_type": "stream",
     "text": [
      "Naive Bayes classification accuracy: 0.8020846258841047\n"
     ]
    }
   ],
   "source": [
    "accuracy = accuracy_score(y_test, y_pred)\n",
    "print(\"Naive Bayes classification accuracy:\", accuracy)"
   ]
  },
  {
   "cell_type": "code",
   "execution_count": 561,
   "metadata": {},
   "outputs": [],
   "source": [
    "cm = confusion_matrix(y_test, y_pred)\n",
    "\n"
   ]
  },
  {
   "cell_type": "code",
   "execution_count": 562,
   "metadata": {},
   "outputs": [
    {
     "data": {
      "image/png": "[encoded data removed]",
      "text/plain": [
       "<Figure size 640x480 with 2 Axes>"
      ]
     },
     "metadata": {},
     "output_type": "display_data"
    }
   ],
   "source": [
    "sns.heatmap(cm, annot=True, fmt=\"d\", cmap=\"Blues\")\n",
    "plt.xlabel('Predicted')\n",
    "plt.ylabel('True')\n",
    "plt.title('Confusion Matrix')\n",
    "plt.show()"
   ]
  },
  {
   "cell_type": "code",
   "execution_count": 563,
   "metadata": {},
   "outputs": [],
   "source": [
    "y_prob = nb.predict(X_test)\n",
    "\n",
    "# Compute false positive rate (FPR), true positive rate (TPR), and threshold\n",
    "fpr, tpr, thresholds = roc_curve(y_test, y_prob)\n",
    "\n",
    "# Calculate area under the ROC curve (AUC)\n",
    "roc_auc = auc(fpr, tpr)"
   ]
  },
  {
   "cell_type": "code",
   "execution_count": 564,
   "metadata": {},
   "outputs": [
    {
     "data": {
      "image/png": "[encoded data removed]",
      "text/plain": [
       "<Figure size 640x480 with 1 Axes>"
      ]
     },
     "metadata": {},
     "output_type": "display_data"
    }
   ],
   "source": [
    "plt.plot(fpr, tpr, label='ROC curve (area = %0.2f)' % roc_auc)\n",
    "plt.plot([0, 1], [0, 1], 'k--')  # Random guessing line\n",
    "plt.xlabel('False Positive Rate')\n",
    "plt.ylabel('True Positive Rate')\n",
    "plt.title('Receiver Operating Characteristic (ROC) Curve')\n",
    "plt.legend(loc='lower right')\n",
    "plt.show()"
   ]
  },
  {
   "cell_type": "code",
   "execution_count": 565,
   "metadata": {},
   "outputs": [],
   "source": [
    "precision, recall, thresholds = precision_recall_curve(y_test, y_prob)"
   ]
  },
  {
   "cell_type": "code",
   "execution_count": 566,
   "metadata": {},
   "outputs": [
    {
     "data": {
      "image/png": "[encoded data removed]",
      "text/plain": [
       "<Figure size 640x480 with 1 Axes>"
      ]
     },
     "metadata": {},
     "output_type": "display_data"
    }
   ],
   "source": [
    "plt.plot(recall, precision, label='Precision-Recall curve')\n",
    "plt.xlabel('Recall')\n",
    "plt.ylabel('Precision')\n",
    "plt.title('Precision-Recall Curve')\n",
    "plt.legend(loc='lower left')\n",
    "plt.show()"
   ]
  }
 ],
 "metadata": {
  "kernelspec": {
   "display_name": "Python 3",
   "language": "python",
   "name": "python3"
  },
  "language_info": {
   "codemirror_mode": {
    "name": "ipython",
    "version": 3
   },
   "file_extension": ".py",
   "mimetype": "text/x-python",
   "name": "python",
   "nbconvert_exporter": "python",
   "pygments_lexer": "ipython3",
   "version": "3.9.6"
  },
  "orig_nbformat": 4
 },
 "nbformat": 4,
 "nbformat_minor": 2
}
